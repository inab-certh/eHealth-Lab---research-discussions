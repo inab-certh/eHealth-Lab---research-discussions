{
 "cells": [
  {
   "cell_type": "markdown",
   "id": "287f4ee8",
   "metadata": {
    "id": "287f4ee8"
   },
   "source": [
    "Sarah M. Alghamdi\n",
    "\n",
    "------------------------------------\n",
    "# Application of ontology embedding\n",
    "\n",
    "This is a simple implemantation that takes vectors of genes and diseases and positives dictionary and predict gene-disease association based on unsupervised and supervised methods.\n",
    "\n",
    "- Unsupervised approach uses cosine similarity\n",
    "\n",
    "- Supervised method uses MLP with one hidden layer and does the training on 10-fold-cross validation\n",
    "\n",
    "Using those methods, we can find the most similar gene or genes to diseases inputs :\n",
    "\n",
    "- genes_vectors_filename : json dictionary {\"gene_id\":vector of real numbers as a list}\n",
    "\n",
    "- diseases_vectors_filename : json dictionary {\"disease_id\":vector of real numbers as a list}\n",
    "\n",
    "- positives_filename : json dictionary {\"disease_id\": list of gene ids}\n",
    "\n",
    "------------------------------------------------------------------------"
   ]
  },
  {
   "cell_type": "code",
   "execution_count": 1,
   "id": "e08e361a",
   "metadata": {
    "executionInfo": {
     "elapsed": 1259,
     "status": "ok",
     "timestamp": 1712217807558,
     "user": {
      "displayName": "Kalliopi Kastampolidou",
      "userId": "08658707048443539719"
     },
     "user_tz": -180
    },
    "id": "e08e361a"
   },
   "outputs": [],
   "source": [
    "from sklearn.neural_network import MLPClassifier\n",
    "from sklearn.metrics.pairwise import cosine_similarity\n",
    "import json\n",
    "import sys\n",
    "import numpy as np\n",
    "import random\n",
    "import math"
   ]
  },
  {
   "cell_type": "code",
   "execution_count": 2,
   "id": "lC5_zBsdFMe_",
   "metadata": {
    "colab": {
     "base_uri": "https://localhost:8080/"
    },
    "executionInfo": {
     "elapsed": 22111,
     "status": "ok",
     "timestamp": 1712217829664,
     "user": {
      "displayName": "Kalliopi Kastampolidou",
      "userId": "08658707048443539719"
     },
     "user_tz": -180
    },
    "id": "lC5_zBsdFMe_",
    "outputId": "13f39217-3582-443e-cbe5-cb3d6f4e4be6"
   },
   "outputs": [
    {
     "name": "stdout",
     "output_type": "stream",
     "text": [
      "Mounted at /content/drive/\n"
     ]
    }
   ],
   "source": [
    "from google.colab import drive\n",
    "drive.mount('/content/drive/')\n",
    "#cd /content/drive/MyDrive/mowl-tutorial/\n",
    "import os\n",
    "os.chdir(\"/content/drive/MyDrive/Colab_Notebooks/mOWL2/data\")"
   ]
  },
  {
   "cell_type": "markdown",
   "id": "6fb8c408",
   "metadata": {
    "id": "6fb8c408"
   },
   "source": [
    "Test files can be downloaded from here:\n",
    "\n",
    "https://drive.google.com/drive/folders/1_z3-7dhZdF7MbIqDa2T1q4wMzZ809Db_?usp=sharing\n",
    "\n",
    "These are embeddings generated using DL2Vec tool, on mouse phenotypes"
   ]
  },
  {
   "cell_type": "code",
   "execution_count": 2,
   "id": "7b1ec2c7",
   "metadata": {
    "executionInfo": {
     "elapsed": 9,
     "status": "ok",
     "timestamp": 1712217829665,
     "user": {
      "displayName": "Kalliopi Kastampolidou",
      "userId": "08658707048443539719"
     },
     "user_tz": -180
    },
    "id": "7b1ec2c7"
   },
   "outputs": [],
   "source": [
    "genes_vectors_filename = \"data/mouse_genes_embedding.json\"\n",
    "diseases_vectors_filename = \"data/human_diseases_embedding.json\"\n",
    "positives_filename = \"data/mouse_positives.json\""
   ]
  },
  {
   "cell_type": "markdown",
   "id": "ef57f5b4",
   "metadata": {
    "id": "ef57f5b4"
   },
   "source": [
    "## 1- Unsupervised Analysis\n",
    "\n",
    "In this section we calculate the cosine similarity of genes and diseases, then we evaluate the prediction of gene-disease association"
   ]
  },
  {
   "cell_type": "code",
   "execution_count": 3,
   "id": "07499456",
   "metadata": {
    "colab": {
     "base_uri": "https://localhost:8080/"
    },
    "executionInfo": {
     "elapsed": 8814,
     "status": "ok",
     "timestamp": 1712217838472,
     "user": {
      "displayName": "Kalliopi Kastampolidou",
      "userId": "08658707048443539719"
     },
     "user_tz": -180
    },
    "id": "07499456",
    "outputId": "f5d07193-ad58-486c-95fb-bbbe169bb529"
   },
   "outputs": [
    {
     "name": "stdout",
     "output_type": "stream",
     "text": [
      "the dimentions of this matrix is  (12132, 14210)\n"
     ]
    }
   ],
   "source": [
    "with open(genes_vectors_filename,'r') as f:\n",
    "    genes_vectors = json.load(f)\n",
    "with open(diseases_vectors_filename,'r') as f:\n",
    "    diseases_vectors = json.load(f)\n",
    "\n",
    "with open(positives_filename,'r') as f:\n",
    "    positives = json.load(f)\n",
    "\n",
    "human_disease_vectors=[]\n",
    "human_disease_keys = list(diseases_vectors.keys())\n",
    "for key in human_disease_keys:\n",
    "    human_disease_vectors.append(diseases_vectors[key])\n",
    "\n",
    "mouse_genes_vectors=[]\n",
    "mouse_genes_keys = list(genes_vectors.keys())\n",
    "for key in mouse_genes_keys:\n",
    "    mouse_genes_vectors.append(genes_vectors[key])\n",
    "\n",
    "\n",
    "Similarity_matrix = cosine_similarity(np.array(human_disease_vectors),np.array(mouse_genes_vectors))\n",
    "\n",
    "print(\"the dimentions of this matrix is \", Similarity_matrix.shape)\n"
   ]
  },
  {
   "cell_type": "markdown",
   "id": "648f43fd",
   "metadata": {
    "id": "648f43fd"
   },
   "source": [
    "After calculating cosine similarity between diseases and genes, we then can use these similarities to prdict gene-disease associations\n",
    "\n",
    "Here we define a function that returns the most similar gene to each disease:"
   ]
  },
  {
   "cell_type": "code",
   "execution_count": 4,
   "id": "31741777",
   "metadata": {
    "colab": {
     "base_uri": "https://localhost:8080/"
    },
    "executionInfo": {
     "elapsed": 13,
     "status": "ok",
     "timestamp": 1712217838472,
     "user": {
      "displayName": "Kalliopi Kastampolidou",
      "userId": "08658707048443539719"
     },
     "user_tz": -180
    },
    "id": "31741777",
    "outputId": "ca9243d4-f1cf-4d7c-f6fe-07742137526c"
   },
   "outputs": [
    {
     "name": "stdout",
     "output_type": "stream",
     "text": [
      "Testing with the disease (OMIM:106190) Isolated anhidrosis with normal morphology and number sweat glands (ANHD)\n",
      "The most similar gene to disease OMIM:106190 is MGI:99418\n",
      "The most similar genes to disease OMIM:106190 are MGI:99418 MGI:4821354 MGI:1343498 MGI:2670747 MGI:3029925\n"
     ]
    }
   ],
   "source": [
    "def find_most_similar_gene(disease_id, disease_genes_similarity_matrix, disease_keys, gene_keys):\n",
    "    disease_index = disease_keys.index(disease_id)\n",
    "    prediction_list = np.flip(np.argsort(disease_genes_similarity_matrix[disease_index]))\n",
    "    return gene_keys[prediction_list[0]]\n",
    "\n",
    "def find_top_k_most_similar_genes(disease_id,k, disease_genes_similarity_matrix, disease_keys, gene_keys):\n",
    "    disease_index = disease_keys.index(disease_id)\n",
    "    prediction_list = np.flip(np.argsort(disease_genes_similarity_matrix[disease_index]))\n",
    "    return [gene_keys[prediction_list[x]] for x in range(k)]\n",
    "\n",
    "print(\"Testing with the disease (OMIM:106190) Isolated anhidrosis with normal morphology and number sweat glands (ANHD)\")\n",
    "\n",
    "top = find_most_similar_gene(\"OMIM:106190\", Similarity_matrix, human_disease_keys, mouse_genes_keys )\n",
    "\n",
    "print(\"The most similar gene to disease OMIM:106190 is \"+ top)\n",
    "\n",
    "top_5 = find_top_k_most_similar_genes(\"OMIM:106190\",5, Similarity_matrix, human_disease_keys, mouse_genes_keys )\n",
    "\n",
    "print(\"The most similar genes to disease OMIM:106190 are \"+ \" \".join(top_5))"
   ]
  },
  {
   "cell_type": "markdown",
   "id": "303be717",
   "metadata": {
    "id": "303be717"
   },
   "source": [
    "## 2- Supervised Analysis\n",
    "\n",
    "In this section we test simple MLP model for the prediction task"
   ]
  },
  {
   "cell_type": "code",
   "execution_count": 5,
   "id": "89ec496e",
   "metadata": {
    "executionInfo": {
     "elapsed": 355,
     "status": "ok",
     "timestamp": 1712217840594,
     "user": {
      "displayName": "Kalliopi Kastampolidou",
      "userId": "08658707048443539719"
     },
     "user_tz": -180
    },
    "id": "89ec496e"
   },
   "outputs": [],
   "source": [
    "# This method is used to generate negative samples\n",
    "# input:\n",
    "# # genes_keys: list of genes identifiers \"must match the identifiers in the embeddings files\"\n",
    "# # diseases_keys: list of disease identifiers \"must match the identifiers in the embeddings files\"\n",
    "# # positives: in a dictionary form\n",
    "# # hard: binary setting for the split (if hard then negative genes are only sampled from the gene associated diseases)\n",
    "# output:\n",
    "# # negatives: in a dictionary, set of genes for each disease is sampled (ratio * number of positive genes)\n",
    "# # new_positives: returns clean dictionary of positives diseases and genes where only those with representaions are retrived\n",
    "# # pos_count\n",
    "# # neg_count\n",
    "#\n",
    "# When data are generated the negative genes are selected in 2 ways: hard choise will select the negative genes from the disease associated genes only,\n",
    "# not hard when the selection of the genes are from associated and non associated genes.\n",
    "def generate_negatives(genes_keys, diseases_keys, positives, hard):\n",
    "\tnegatives = {}\n",
    "\tnew_positives = {}\n",
    "\tpos_count = 0\n",
    "\tneg_count = 0\n",
    "\tdisease_associated_genes = set([])\n",
    "\tfor disease in positives:\n",
    "\t\tif (disease in diseases_keys):\n",
    "\t\t\tfor gene in positives[disease]:\n",
    "\t\t\t\tif(gene in genes_keys):\n",
    "\t\t\t\t\tif(disease not in new_positives):\n",
    "\t\t\t\t\t\tnew_positives[disease]=set([])\n",
    "\t\t\t\t\tpos_count+=1\n",
    "\t\t\t\t\tdisease_associated_genes.add(gene)\n",
    "\t\t\t\t\tnew_positives[disease].add(gene)\n",
    "\tnon_disease_associated_genes = set([])\n",
    "\tfor gene in genes_keys:\n",
    "\t\tif gene not in disease_associated_genes:\n",
    "\t\t\tnon_disease_associated_genes.add(gene)\n",
    "\n",
    "\t#genes can be associated or non associated genes\n",
    "\tif not hard:\n",
    "\t\tfor disease in diseases_keys:\n",
    "\t\t\tif disease in positives:\n",
    "\t\t\t\tnegatives[disease] = set([])\n",
    "\t\t\t\tfor gene in genes_keys:\n",
    "\t\t\t\t\tneg_count+=1\n",
    "\t\t\t\t\tnegatives[disease].add(gene)\n",
    "\n",
    "\t#genes are only the associated genes\n",
    "\tif hard:\n",
    "\t\tfor disease in diseases_keys:\n",
    "\t\t\tif disease in positives:\n",
    "\t\t\t\tnegatives[disease] = set([])\n",
    "\t\t\t\tfor gene in genes_keys:\n",
    "\t\t\t\t\tif (gene not in positives[disease]) and gene not in non_disease_associated_genes:\n",
    "\t\t\t\t\t\tneg_count+=1\n",
    "\t\t\t\t\t\tnegatives[disease].add(gene)\n",
    "\t\t\t\t\t\tbreak\n",
    "\treturn negatives,new_positives, pos_count, neg_count"
   ]
  },
  {
   "cell_type": "code",
   "execution_count": 6,
   "id": "05bc8e45",
   "metadata": {
    "executionInfo": {
     "elapsed": 5,
     "status": "ok",
     "timestamp": 1712217843952,
     "user": {
      "displayName": "Kalliopi Kastampolidou",
      "userId": "08658707048443539719"
     },
     "user_tz": -180
    },
    "id": "05bc8e45"
   },
   "outputs": [],
   "source": [
    "def get_input_analysis(genes_vectors_filename, diseases_vectors_filename, positives_filename):\n",
    "\tgenes_vectors = {}\n",
    "\twith open(genes_vectors_filename,'r') as f:\n",
    "\t\tgenes_vectors = json.load(f)\n",
    "\n",
    "\tdiseases_vectors = {}\n",
    "\twith open(diseases_vectors_filename,'r') as f:\n",
    "\t\tdiseases_vectors = json.load(f)\n",
    "\n",
    "\tpositives = {}\n",
    "\twith open(positives_filename,'r') as f:\n",
    "\t\tpositives = json.load(f)\n",
    "\n",
    "\tdiseases_keys = list(diseases_vectors.keys())\n",
    "\tgenes_keys = list(genes_vectors.keys())\n",
    "\n",
    "\tnew_positives={}\n",
    "\tfor disease in positives:\n",
    "\t\tif (disease in diseases_keys):\n",
    "\t\t\tfor gene in positives[disease]:\n",
    "\t\t\t\tif(gene in genes_keys):\n",
    "\t\t\t\t\tif(disease not in new_positives):\n",
    "\t\t\t\t\t\tnew_positives[disease]=set([])\n",
    "\t\t\t\t\tnew_positives[disease].add(gene)\n",
    "\n",
    "\tnew_disease_keys = [x for x in diseases_keys if x in new_positives]\n",
    "\n",
    "\tprint(len(new_disease_keys), len(genes_keys) , len(new_positives.keys()))\n",
    "\n",
    "\treturn new_disease_keys,genes_keys,new_positives"
   ]
  },
  {
   "cell_type": "code",
   "execution_count": 7,
   "id": "fd699d50",
   "metadata": {
    "executionInfo": {
     "elapsed": 4,
     "status": "ok",
     "timestamp": 1712217845069,
     "user": {
      "displayName": "Kalliopi Kastampolidou",
      "userId": "08658707048443539719"
     },
     "user_tz": -180
    },
    "id": "fd699d50"
   },
   "outputs": [],
   "source": [
    "def get_input(genes_vectors_filename, diseases_vectors_filename ,positives_filename, ratio):\n",
    "\tgenes_vectors = {}\n",
    "\twith open(genes_vectors_filename,'r') as f:\n",
    "\t\tgenes_vectors = json.load(f)\n",
    "\n",
    "\tdiseases_vectors = {}\n",
    "\twith open(diseases_vectors_filename,'r') as f:\n",
    "\t\tdiseases_vectors = json.load(f)\n",
    "\n",
    "\tpositives = {}\n",
    "\twith open(positives_filename,'r') as f:\n",
    "\t\tpositives = json.load(f)\n",
    "\n",
    "\tdiseases_keys = list(diseases_vectors.keys())\n",
    "\tgenes_keys = list(genes_vectors.keys())\n",
    "\n",
    "\tnegatives, new_positives, pos_count, neg_count = generate_negatives(genes_keys, diseases_keys, positives, hard)\n",
    "\n",
    "\n",
    "\t# Defining Feature Matrex\n",
    "\tX= np.empty(((ratio+1)*pos_count,Vector_size*2))\n",
    "\ty= np.empty((ratio+1)*pos_count)\n",
    "\n",
    "\tnegative_diseases = list(negatives.keys())\n",
    "\tsample_number=0\n",
    "\tfor disease in new_positives:\n",
    "\t\tfor gene in new_positives[disease]:\n",
    "\t\t\tx = np.concatenate((diseases_vectors[disease],genes_vectors[gene]),axis=0)\n",
    "\t\t\tX[sample_number]=x\n",
    "\t\t\ty[sample_number]=1\n",
    "\t\t\tsample_number+=1\n",
    "\n",
    "\n",
    "\t\t\tfor i in range(ratio):\n",
    "\t\t\t\tn = random.randint(0,len(negative_diseases))\n",
    "\t\t\t\tn_disease = negative_diseases[n-1]\n",
    "\t\t\t\tn = random.randint(0,len(negatives[n_disease]))\n",
    "\t\t\t\tn_gene = list(negatives[n_disease])[n-1]\n",
    "\t\t\t\tx = np.concatenate((diseases_vectors[n_disease],genes_vectors[n_gene]),axis=0)\n",
    "\t\t\t\tX[sample_number]=x\n",
    "\t\t\t\ty[sample_number]=0\n",
    "\t\t\t\tsample_number+=1\n",
    "\treturn X,y"
   ]
  },
  {
   "cell_type": "code",
   "execution_count": 8,
   "id": "c66d24b8",
   "metadata": {
    "executionInfo": {
     "elapsed": 380,
     "status": "ok",
     "timestamp": 1712217847741,
     "user": {
      "displayName": "Kalliopi Kastampolidou",
      "userId": "08658707048443539719"
     },
     "user_tz": -180
    },
    "id": "c66d24b8"
   },
   "outputs": [],
   "source": [
    "def get_training_folds(genes_vectors_filename, diseases_vectors_filename ,positives,diseases_keys,genes_keys, ratio, fold):\n",
    "\tgenes_vectors = {}\n",
    "\twith open(genes_vectors_filename,'r') as f:\n",
    "\t\tgenes_vectors = json.load(f)\n",
    "\n",
    "\tdiseases_vectors = {}\n",
    "\twith open(diseases_vectors_filename,'r') as f:\n",
    "\t\tdiseases_vectors = json.load(f)\n",
    "\n",
    "\tstart = int(len(diseases_keys)*fold/10)\n",
    "\tend = int(len(diseases_keys)*(fold+1)/10) - 1\n",
    "\n",
    "\n",
    "\ttesting_disease_keys = diseases_keys[start:end]\n",
    "\ttraining_disease_keys = [x for x in diseases_keys if x not in testing_disease_keys]\n",
    "\n",
    "\tprint(start,end,len(testing_disease_keys),len(training_disease_keys))\n",
    "\n",
    "\tnegatives, new_positives, pos_count, neg_count = generate_negatives(genes_keys, training_disease_keys, positives, hard)\n",
    "\n",
    "\n",
    "\t# Defining Feature Matrex\n",
    "\tX= np.empty(((ratio+1)*pos_count,Vector_size*2))\n",
    "\ty= np.empty((ratio+1)*pos_count)\n",
    "\n",
    "\tnegative_diseases = list(negatives.keys())\n",
    "\tsample_number=0\n",
    "\n",
    "\tfor disease in new_positives:\n",
    "\t\tfor gene in new_positives[disease]:\n",
    "\t\t\tx = np.concatenate((diseases_vectors[disease],genes_vectors[gene]),axis=0)\n",
    "\t\t\tX[sample_number]=x\n",
    "\t\t\ty[sample_number]=1\n",
    "\t\t\tsample_number+=1\n",
    "\n",
    "\n",
    "\t\t\tfor i in range(ratio):\n",
    "\t\t\t\tn = random.randint(1,len(negative_diseases))\n",
    "\t\t\t\tn_disease = negative_diseases[n-1]\n",
    "\t\t\t\tn = random.randint(1,len(negatives[n_disease]))\n",
    "\t\t\t\tn_gene = list(negatives[n_disease])[n-1]\n",
    "\t\t\t\tx = np.concatenate((diseases_vectors[n_disease],genes_vectors[n_gene]),axis=0)\n",
    "\t\t\t\tX[sample_number]=x\n",
    "\t\t\t\ty[sample_number]=0\n",
    "\t\t\t\tsample_number+=1\n",
    "\n",
    "\tindex = 0\n",
    "\tX_test= np.empty((len(testing_disease_keys)*len(genes_keys),Vector_size*2))\n",
    "\ty_test= np.empty(len(testing_disease_keys)*len(genes_keys))\n",
    "\ttest_guide = {}\n",
    "\tfor disease in testing_disease_keys:\n",
    "\t\ttest_guide[disease] = {}\n",
    "\t\tfor gene in genes_keys:\n",
    "\t\t\ttest_guide[disease][gene] = index\n",
    "\t\t\tx = np.concatenate((diseases_vectors[disease],genes_vectors[gene]),axis=0)\n",
    "\t\t\tX_test[index]=x\n",
    "\t\t\tif(disease in new_positives):\n",
    "\t\t\t\tif(gene in new_positives[disease]):\n",
    "\t\t\t\t\ty_test[index]=1\n",
    "\t\t\t\telse:\n",
    "\t\t\t\t\ty_test[index]=0\n",
    "\t\t\telse:\n",
    "\t\t\t\ty_test[index]=0\n",
    "\t\t\tindex+=1\n",
    "\n",
    "\n",
    "\n",
    "\treturn X,y , X_test, y_test, test_guide"
   ]
  },
  {
   "cell_type": "code",
   "execution_count": 9,
   "id": "2d53e605",
   "metadata": {
    "colab": {
     "base_uri": "https://localhost:8080/"
    },
    "id": "2d53e605",
    "outputId": "e77932ea-0fb3-4799-a4a6-10bd226014c3"
   },
   "outputs": [
    {
     "name": "stdout",
     "output_type": "stream",
     "text": [
      "3731 14210 3731\n",
      "-------------starting fold--------------\n",
      "0\n",
      "0 372 372 3359\n",
      "filling the results\n",
      "-------------starting fold--------------\n",
      "1\n",
      "373 745 372 3359\n",
      "filling the results\n",
      "-------------starting fold--------------\n",
      "2\n",
      "746 1118 372 3359\n",
      "filling the results\n",
      "-------------starting fold--------------\n",
      "3\n",
      "1119 1491 372 3359\n",
      "filling the results\n",
      "-------------starting fold--------------\n",
      "4\n",
      "1492 1864 372 3359\n",
      "filling the results\n",
      "-------------starting fold--------------\n",
      "5\n",
      "1865 2237 372 3359\n",
      "filling the results\n",
      "-------------starting fold--------------\n",
      "6\n",
      "2238 2610 372 3359\n",
      "filling the results\n",
      "-------------starting fold--------------\n",
      "7\n",
      "2611 2983 372 3359\n",
      "filling the results\n",
      "-------------starting fold--------------\n",
      "8\n",
      "2984 3356 372 3359\n",
      "filling the results\n",
      "-------------starting fold--------------\n",
      "9\n",
      "3357 3730 373 3358\n",
      "filling the results\n",
      "matrix is ready!\n"
     ]
    }
   ],
   "source": [
    "hard = False\n",
    "ratio = 5\n",
    "Vector_size = 100\n",
    "\n",
    "disease = []\n",
    "genes = []\n",
    "\n",
    "HDs_keys,OGs_keys,positives = get_input_analysis(genes_vectors_filename, diseases_vectors_filename, positives_filename)\n",
    "OGs_HDs_sim = np.empty((len(HDs_keys),len(OGs_keys)))\n",
    "\n",
    "for fold in range(10):\n",
    "\tprint(\"-------------starting fold--------------\")\n",
    "\tprint(fold)\n",
    "\tX_train, y_train, X_test, y_test, test_guid = get_training_folds(genes_vectors_filename, diseases_vectors_filename, positives,HDs_keys, OGs_keys, ratio, fold)\n",
    "\n",
    "\tclf = MLPClassifier(hidden_layer_sizes=(Vector_size,), activation= \"logistic\", solver = \"adam\", alpha=0.0001, learning_rate= 'constant',learning_rate_init=0.001, random_state=42, max_iter=500, early_stopping=True).fit(X_train, y_train)\n",
    "\tresult = clf.predict_proba(X_test)\n",
    "\tprint(\"filling the results\")\n",
    "\tfor d in range(0,len(HDs_keys)):\n",
    "\t\tdisease = HDs_keys[d]\n",
    "\t\tif disease in test_guid:\n",
    "\t\t\tfor g in range(len(OGs_keys)):\n",
    "\t\t\t\tgene=OGs_keys[g]\n",
    "\t\t\t\tindex = test_guid[disease][gene]\n",
    "\t\t\t\tOGs_HDs_sim[d][g] = result[index][1]\n",
    "\n",
    "print(\"matrix is ready!\")"
   ]
  },
  {
   "cell_type": "markdown",
   "id": "a9e47303",
   "metadata": {
    "id": "a9e47303"
   },
   "source": [
    "-----------------\n",
    "Lets now test the supervised prediction"
   ]
  },
  {
   "cell_type": "code",
   "execution_count": 10,
   "id": "7fd2d6c5",
   "metadata": {
    "id": "7fd2d6c5",
    "outputId": "19f03761-ffbb-493c-84cb-2cb8ff434c24"
   },
   "outputs": [
    {
     "name": "stdout",
     "output_type": "stream",
     "text": [
      "Testing with the disease (OMIM:106190) Isolated anhidrosis with normal morphology and number sweat glands (ANHD)\n",
      "The most similar gene to disease OMIM:106190 is MGI:1923452\n",
      "The most similar genes to disease OMIM:106190 are MGI:1923452 MGI:1261813 MGI:104744 MGI:3052506 MGI:99605\n"
     ]
    }
   ],
   "source": [
    "print(\"Testing with the disease (OMIM:106190) Isolated anhidrosis with normal morphology and number sweat glands (ANHD)\")\n",
    "\n",
    "top = find_most_similar_gene(\"OMIM:106190\", OGs_HDs_sim, HDs_keys, OGs_keys )\n",
    "\n",
    "print(\"The most similar gene to disease OMIM:106190 is \"+ top)\n",
    "\n",
    "top_5 = find_top_k_most_similar_genes(\"OMIM:106190\",5, OGs_HDs_sim, HDs_keys, OGs_keys )\n",
    "\n",
    "print(\"The most similar genes to disease OMIM:106190 are \"+ \" \".join(top_5))"
   ]
  },
  {
   "cell_type": "markdown",
   "id": "dWBENXlj4wFK",
   "metadata": {
    "id": "dWBENXlj4wFK"
   },
   "source": [
    "You can call the evaluate_performance function after predicting the labels using the MLP model. Make sure to replace true_labels and predicted_labels with the appropriate variables containing the true labels and predicted labels, respectively."
   ]
  },
  {
   "cell_type": "markdown",
   "id": "YBN1HaD_g8oP",
   "metadata": {
    "id": "YBN1HaD_g8oP"
   },
   "source": [
    "\n",
    "\n",
    "---\n",
    "\n",
    "Loading Data: The code starts by loading gene vectors, disease vectors, and positive associations from JSON files.\n",
    "\n",
    "Calculating Cosine Similarity: It calculates the cosine similarity between diseases and genes using the gene and disease vectors loaded earlier. This similarity matrix is used in the unsupervised method for predicting gene-disease associations.\n",
    "\n",
    "Unsupervised Analysis: It defines functions (find_most_similar_gene and find_top_k_most_similar_genes) to find the most similar genes to a given disease based on cosine similarity. Then, it tests the unsupervised approach by finding the most similar gene to a specific disease (OMIM:106190) and the top 5 most similar genes.\n",
    "\n",
    "Supervised Analysis: It defines functions (generate_negatives, get_input, get_training_folds) to prepare input data and train a supervised MLP classifier for predicting gene-disease associations. It trains the MLP model on 10-fold cross-validation and fills a similarity matrix (OGs_HDs_sim) with the predicted probabilities of associations between genes and diseases.\n",
    "\n",
    "Evaluation: After training the MLP model, it tests the supervised approach by finding the most similar gene to the disease OMIM:106190 and the top 5 most similar genes.\n",
    "\n",
    "Performance Evaluation: It includes a function (evaluate_performance) to evaluate the performance of the supervised MLP model using metrics such as precision, recall, and F1-score. However, in the provided code, the evaluation is not directly performed. You need to uncomment the lines where true labels are loaded and predicted labels are obtained, and then call the evaluate_performance function with these labels."
   ]
  },
  {
   "cell_type": "code",
   "execution_count": null,
   "id": "f5b0daf9",
   "metadata": {
    "id": "f5b0daf9"
   },
   "outputs": [],
   "source": []
  }
 ],
 "metadata": {
  "accelerator": "GPU",
  "colab": {
   "gpuType": "T4",
   "provenance": [
    {
     "file_id": "1ry0hZIP11Yr-prcIUoFxLyBYxaAyMJpj",
     "timestamp": 1712215851582
    }
   ]
  },
  "kernelspec": {
   "display_name": "Python 3 (ipykernel)",
   "language": "python",
   "name": "python3"
  },
  "language_info": {
   "codemirror_mode": {
    "name": "ipython",
    "version": 3
   },
   "file_extension": ".py",
   "mimetype": "text/x-python",
   "name": "python",
   "nbconvert_exporter": "python",
   "pygments_lexer": "ipython3",
   "version": "3.9.13"
  }
 },
 "nbformat": 4,
 "nbformat_minor": 5
}
