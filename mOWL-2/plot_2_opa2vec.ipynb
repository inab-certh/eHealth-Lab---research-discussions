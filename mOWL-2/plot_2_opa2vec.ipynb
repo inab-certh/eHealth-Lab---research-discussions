{
  "cells": [
    {
      "cell_type": "code",
      "execution_count": null,
      "metadata": {
        "collapsed": false
      },
      "outputs": [],
      "source": [
        "%matplotlib inline"
      ]
    },
    {
      "cell_type": "markdown",
      "metadata": {},
      "source": [
        "\n# OPA2Vec\n\nThis example corresponds to the paper [OPA2Vec: combining formal and informal content of biomedical ontologies to improve similarity-based prediction](https://doi.org/10.1093/bioinformatics/bty933). \n\nThis method is an extension of Onto2Vec that apart from formal knowldege (i.e. axioms) it also uses informal knowledge such as entity metadata (i.e. synonyms, definitions, etc.)\n"
      ]
    },
    {
      "cell_type": "markdown",
      "metadata": {},
      "source": [
        "For this algorithm, we need four components:\n\n- The reasoner\n- The corpus generator\n- The annotations generator\n- The Word2Vec model\n\n"
      ]
    },
    {
      "cell_type": "code",
      "execution_count": null,
      "metadata": {
        "collapsed": false
      },
      "outputs": [],
      "source": [
        "import mowl\nmowl.init_jvm(\"20g\")\n\nfrom mowl.datasets.builtin import PPIYeastSlimDataset\nfrom mowl.corpus import extract_and_save_axiom_corpus, extract_and_save_annotation_corpus\nfrom mowl.owlapi import OWLAPIAdapter\nfrom mowl.reasoning import MOWLReasoner\n\nfrom org.semanticweb.elk.owlapi import ElkReasonerFactory\nfrom java.util import HashSet\n\nfrom gensim.models.word2vec import LineSentence\nfrom gensim.models import Word2Vec\n\nimport os"
      ]
    },
    {
      "cell_type": "markdown",
      "metadata": {},
      "source": [
        "## Inferring new axioms\n\nOPA2Vec uses an ontology reasoner to infer new axioms as a preprocessing step. In the original\npaper, the authors used the HermiT reasoner. For this example, we use the ELK reasoner.\n\n"
      ]
    },
    {
      "cell_type": "code",
      "execution_count": null,
      "metadata": {
        "collapsed": false
      },
      "outputs": [],
      "source": [
        "dataset = PPIYeastSlimDataset()\n\nreasoner_factory = ElkReasonerFactory()\nreasoner = reasoner_factory.createReasoner(dataset.ontology)\nmowl_reasoner = MOWLReasoner(reasoner)"
      ]
    },
    {
      "cell_type": "markdown",
      "metadata": {},
      "source": [
        "We wrap the reasoner into the :class:`MOWLReasoner <mowl.reasoning.base.MOWLReasoner>` class \\\nin order to use some shortcuts the mOWL\nprovides such as:\n\n- inferring subclass axioms\n- inferring equivalent class axioms\n- inferring disjoint axioms (not applicable for this example since we use ELK reasoner)\n\n"
      ]
    },
    {
      "cell_type": "code",
      "execution_count": null,
      "metadata": {
        "collapsed": false
      },
      "outputs": [],
      "source": [
        "classes = dataset.ontology.getClassesInSignature()\nsubclass_axioms = mowl_reasoner.infer_subclass_axioms(classes)\nequivalent_class_axioms = mowl_reasoner.infer_equivalent_class_axioms(classes)"
      ]
    },
    {
      "cell_type": "markdown",
      "metadata": {},
      "source": [
        "We can now add the inferred axioms to the ontology.\n\n"
      ]
    },
    {
      "cell_type": "code",
      "execution_count": null,
      "metadata": {
        "collapsed": false
      },
      "outputs": [],
      "source": [
        "adapter = OWLAPIAdapter()\nmanager = adapter.owl_manager\n\naxioms = HashSet()\naxioms.addAll(subclass_axioms)\naxioms.addAll(equivalent_class_axioms)\n\nmanager.addAxioms(dataset.ontology, axioms)"
      ]
    },
    {
      "cell_type": "markdown",
      "metadata": {},
      "source": [
        "## Generating the corpus and training the model\n\nNow that we have an extended ontology, we can generate the corpus out of it. After that, we\ncan train the Word2Vec model.\n\n"
      ]
    },
    {
      "cell_type": "code",
      "execution_count": null,
      "metadata": {
        "collapsed": false
      },
      "outputs": [],
      "source": [
        "extract_and_save_axiom_corpus(dataset.ontology, \"opa2vec_corpus.txt\")\nextract_and_save_annotation_corpus(dataset.ontology, \"opa2vec_corpus.txt\", mode=\"a\")\n\nsentences = LineSentence(\"opa2vec_corpus.txt\")\nmodel = Word2Vec(sentences, vector_size=5, window=2, min_count=1, workers=4)"
      ]
    },
    {
      "cell_type": "markdown",
      "metadata": {},
      "source": [
        "Cleaning up the memory\n\n"
      ]
    },
    {
      "cell_type": "code",
      "execution_count": null,
      "metadata": {
        "collapsed": false
      },
      "outputs": [],
      "source": [
        "os.remove(\"opa2vec_corpus.txt\")"
      ]
    }
  ],
  "metadata": {
    "kernelspec": {
      "display_name": "Python 3",
      "language": "python",
      "name": "python3"
    },
    "language_info": {
      "codemirror_mode": {
        "name": "ipython",
        "version": 3
      },
      "file_extension": ".py",
      "mimetype": "text/x-python",
      "name": "python",
      "nbconvert_exporter": "python",
      "pygments_lexer": "ipython3",
      "version": "3.8.16"
    }
  },
  "nbformat": 4,
  "nbformat_minor": 0
}