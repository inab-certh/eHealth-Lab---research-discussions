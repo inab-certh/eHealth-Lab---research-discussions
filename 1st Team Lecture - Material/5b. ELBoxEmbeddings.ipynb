{
 "cells": [
  {
   "cell_type": "code",
   "execution_count": null,
   "metadata": {
    "collapsed": false,
    "jupyter": {
     "outputs_hidden": false
    }
   },
   "outputs": [],
   "source": [
    "%matplotlib inline"
   ]
  },
  {
   "cell_type": "markdown",
   "metadata": {},
   "source": [
    "\n",
    "# ELBoxEmbeddings\n",
    "\n",
    "This example is based on the paper [Description Logic EL++ Embeddings with Intersectional Closure](https://arxiv.org/abs/2202.14018v1). This paper is based on the idea of :doc:`/examples/elmodels/plot_1_elembeddings`, but in this work the main point is to solve the *intersectional closure* problem.\n",
    "\n",
    "In the case of :doc:`/examples/elmodels/plot_1_elembeddings`, the geometric objects representing ontology classes are $n$-dimensional balls. One of the normal forms in EL is:\n",
    "\n",
    "\\begin{align}C_1 \\sqcap C_2 \\sqsubseteq D\\end{align}\n",
    "\n",
    "As we can see, there is an intersection operation $C_1 \\sqcap C_2$. Computing this intersection using balls is not a closed operations because the region contained in the intersection of two balls is not a ball. To solve that issue, this paper proposes the idea of changing the geometric objects to boxes, for which the intersection operation has the closure property.\n"
   ]
  },
  {
   "cell_type": "markdown",
   "metadata": {},
   "source": [
    "This example is quite similar to the one found in :doc:`/examples/elmodels/plot_1_elembeddings`.\n",
    "There might be slight changes in the training part but the most important changes are in the\n",
    "definition of loss functions definition of the loss functions for each normal form.\n",
    "\n"
   ]
  },
  {
   "cell_type": "code",
   "execution_count": null,
   "metadata": {
    "collapsed": false,
    "jupyter": {
     "outputs_hidden": false
    }
   },
   "outputs": [],
   "source": [
    "import mowl\n",
    "mowl.init_jvm(\"10g\")\n",
    "import torch as th"
   ]
  },
  {
   "cell_type": "markdown",
   "metadata": {},
   "source": [
    "## ELBoxEmbeddings (PyTorch) module\n",
    "\n",
    "ELBoxEmbeddings defines a geometric modelling for all the GCIs in the EL language.\n",
    "The implementation of ELEmbeddings module can be found at :class:`mowl.nn.el.elem.module.ELBoxModule`\n",
    "\n"
   ]
  },
  {
   "cell_type": "markdown",
   "metadata": {},
   "source": [
    "## ELBoxEmbeddings model\n",
    "\n",
    "The module :class:`mowl.nn.el.elem.module.ELBoxModule` is used in the :class:`mowl.models.elboxembeddings.model.ELBoxEmbeddings`.\n",
    "In the use case of this example, we will test over a biological problem, which is\n",
    "protein-protein interactions. Given two proteins $p_1,p_2$, the phenomenon\n",
    "\"$p_1$ interacts with $p_2$\" is encoded using GCI 2 as:\n",
    "\n",
    "\\begin{align}p_1 \\sqsubseteq interacts\\_with. p_2\\end{align}\n",
    "\n",
    "For that, we can use the class :class:`mowl.models.elembeddings.examples.model_ppi.ELBoxPPI` mode, which uses the :class:`mowl.datasets.builtin.PPIYeastSlimDataset` dataset.\n",
    "\n"
   ]
  },
  {
   "cell_type": "markdown",
   "metadata": {},
   "source": [
    "## Training the model\n",
    "\n"
   ]
  },
  {
   "cell_type": "code",
   "execution_count": null,
   "metadata": {
    "collapsed": false,
    "jupyter": {
     "outputs_hidden": false
    }
   },
   "outputs": [],
   "source": [
    "from mowl.datasets.builtin import PPIYeastSlimDataset\n",
    "from mowl.models.elboxembeddings.examples.model_ppi import ELBoxPPI\n",
    "\n",
    "dataset = PPIYeastSlimDataset()\n",
    "\n",
    "model = ELBoxPPI(dataset,\n",
    "                 embed_dim=30,\n",
    "                 margin=-0.05,\n",
    "                 reg_norm=1,\n",
    "                 learning_rate=0.001,\n",
    "                 epochs=20,\n",
    "                 batch_size=4096,\n",
    "                 model_filepath=None,\n",
    "                 device='cpu')\n",
    "\n",
    "model.train()"
   ]
  },
  {
   "cell_type": "markdown",
   "metadata": {},
   "source": [
    "## Evaluating the model\n",
    "\n",
    "Now, it is time to evaluate embeddings. For this, we use the\n",
    ":class:`ModelRankBasedEvaluator <mowl.evaluation.ModelRankBasedEvaluator>` class.\n",
    "\n"
   ]
  },
  {
   "cell_type": "code",
   "execution_count": null,
   "metadata": {
    "collapsed": false,
    "jupyter": {
     "outputs_hidden": false
    }
   },
   "outputs": [],
   "source": [
    "from mowl.evaluation.rank_based import ModelRankBasedEvaluator\n",
    "\n",
    "with th.no_grad():                                                                        \n",
    "    model.load_best_model()                                                               \n",
    "    evaluator = ModelRankBasedEvaluator(                                                  \n",
    "        model,                                                                            \n",
    "        device = \"cpu\",\n",
    "        eval_method = model.eval_method,\n",
    "    )                                                                                         \n",
    "                                                                                                  \n",
    "    evaluator.evaluate(show=True)"
   ]
  }
 ],
 "metadata": {
  "kernelspec": {
   "display_name": "Python 3 (ipykernel)",
   "language": "python",
   "name": "python3"
  },
  "language_info": {
   "codemirror_mode": {
    "name": "ipython",
    "version": 3
   },
   "file_extension": ".py",
   "mimetype": "text/x-python",
   "name": "python",
   "nbconvert_exporter": "python",
   "pygments_lexer": "ipython3",
   "version": "3.9.13"
  }
 },
 "nbformat": 4,
 "nbformat_minor": 4
}
